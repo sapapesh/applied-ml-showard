{
 "cells": [
  {
   "cell_type": "markdown",
   "metadata": {},
   "source": [
    "This is a Markdown cell. Change the word \"Example\" in the title to your name or alias. Customize your work and develop your own professional communication 'branding' for your projects. \n",
    "\n",
    "# Sarah's California Housing Price Prediction\n",
    "**Author:** Sarah Howard \n",
    "**Date:** March 16. 2025\n",
    "**Objective:** Predict the median house price in California using available housing features.\n"
   ]
  },
  {
   "cell_type": "markdown",
   "metadata": {},
   "source": [
    "This is a Markdown cell.\n",
    "\n",
    "## Introduction\n",
    "This project uses the California housing dataset to predict house prices based on features such as median income, average number of rooms, and house age. We'll clean the data, train a linear regression model, and explore ways to improve performance."
   ]
  },
  {
   "cell_type": "markdown",
   "metadata": {},
   "source": [
    "This is a Markdown cell.\n",
    "\n",
    "## Imports\n",
    "In the code cell below, import the necessary Python libraries for this notebook.  "
   ]
  },
  {
   "cell_type": "code",
   "execution_count": null,
   "metadata": {},
   "outputs": [],
   "source": [
    "\n",
    "# This is a Python cell\n",
    "# All imports should be at the top of the notebook\n",
    "# This cell will be executed when the notebook is loaded\n",
    "\n",
    "# Import pandas for data manipulation and analysis (we might want to do more with it)\n",
    "import pandas as pd\n",
    "\n",
    "# Import pandas for data manipulation and analysis  (we might want to do more with it)\n",
    "import numpy as np\n",
    "\n",
    "# Import matplotlib for creating static visualizations\n",
    "import matplotlib.pyplot as plt\n",
    "\n",
    "# Import seaborn for statistical data visualization (built on matplotlib)\n",
    "import seaborn as sns\n",
    "\n",
    "# Import the California housing dataset from sklearn\n",
    "from sklearn.datasets import fetch_california_housing\n",
    "\n",
    "# Import train_test_split for splitting data into training and test sets\n",
    "from sklearn.model_selection import train_test_split\n",
    "\n",
    "# Import LinearRegression for building a linear regression model\n",
    "from sklearn.linear_model import LinearRegression\n",
    "\n",
    "# Import performance metrics for model evaluation\n",
    "from sklearn.metrics import root_mean_squared_error, mean_absolute_error, r2_score"
   ]
  },
  {
   "cell_type": "markdown",
   "metadata": {},
   "source": [
    "This is a Markdown cell\n",
    "\n",
    "## Section 1. Load and Explore the Data\n",
    "\n",
    "### 1.1 Load the dataset and display the first 10 rows\n",
    "Load the California housing dataset directly from `scikit-learn`.\n",
    "- The `fetch_california_housing` function returns a dictionary-like object with the data.\n",
    "- Convert it into a pandas DataFrame.\n",
    "- Display just the first 10 rows using `head()`.\n",
    "\n",
    "Example code:\n",
    "\n",
    "data = fetch_california_housing(as_frame=True)\n",
    "data_frame = data.frame\n",
    "\n",
    "data_frame.head(10)"
   ]
  },
  {
   "cell_type": "code",
   "execution_count": 1,
   "metadata": {},
   "outputs": [
    {
     "ename": "NameError",
     "evalue": "name 'fetch_california_housing' is not defined",
     "output_type": "error",
     "traceback": [
      "\u001b[31m---------------------------------------------------------------------------\u001b[39m",
      "\u001b[31mNameError\u001b[39m                                 Traceback (most recent call last)",
      "\u001b[36mCell\u001b[39m\u001b[36m \u001b[39m\u001b[32mIn[1]\u001b[39m\u001b[32m, line 8\u001b[39m\n\u001b[32m      1\u001b[39m \u001b[38;5;66;03m# This is a Python cell. \u001b[39;00m\n\u001b[32m      2\u001b[39m \u001b[38;5;66;03m# Put your comments and code here. \u001b[39;00m\n\u001b[32m      3\u001b[39m \u001b[38;5;66;03m# Read the Markdown cell above for information and example code. \u001b[39;00m\n\u001b[32m   (...)\u001b[39m\u001b[32m      6\u001b[39m \n\u001b[32m      7\u001b[39m \u001b[38;5;66;03m# Load the data\u001b[39;00m\n\u001b[32m----> \u001b[39m\u001b[32m8\u001b[39m data = \u001b[43mfetch_california_housing\u001b[49m(as_frame=\u001b[38;5;28;01mTrue\u001b[39;00m)\n\u001b[32m      9\u001b[39m data_frame = data.frame\n\u001b[32m     11\u001b[39m \u001b[38;5;66;03m# Might be large. Display just the first 10 rows (you can change this number)\u001b[39;00m\n",
      "\u001b[31mNameError\u001b[39m: name 'fetch_california_housing' is not defined"
     ]
    }
   ],
   "source": [
    "# This is a Python cell. \n",
    "# Put your comments and code here. \n",
    "# Read the Markdown cell above for information and example code. \n",
    "#\n",
    "# For example:\n",
    "\n",
    "# Load the data\n",
    "data = fetch_california_housing(as_frame=True)\n",
    "data_frame = data.frame\n",
    "\n",
    "# Might be large. Display just the first 10 rows (you can change this number)\n",
    "data_frame.head(10)\n"
   ]
  },
  {
   "cell_type": "markdown",
   "metadata": {},
   "source": [
    "This is a Markdown cell.\n",
    "\n",
    "### 1.2 Check for missing values and display summary statistics\n",
    "\n",
    "In the cell below:\n",
    "1. Use `info()` to check data types and missing values.\n",
    "2. Use `describe()` to see summary statistics.\n",
    "3. Use `isnull().sum()` to identify missing values in each column.\n",
    "\n",
    "Example code:\n",
    "\n",
    "data_frame.info()\n",
    "\n",
    "data_frame.describe()\n",
    "\n",
    "data_frame.isnull().sum()"
   ]
  },
  {
   "cell_type": "code",
   "execution_count": null,
   "metadata": {},
   "outputs": [],
   "source": [
    "# This is a Python cell. \n",
    "# Put your comments and code here.\n",
    "# Read the Markdown cell above for information and example code. \n",
    "\n"
   ]
  },
  {
   "cell_type": "markdown",
   "id": "9c001a63",
   "metadata": {},
   "source": [
    "This is a Markdown cell\n",
    "\n",
    "\n",
    "Analysis: \n",
    "\n",
    "1) How many data instances (also called data records or data rows) are there?\n",
    "\n",
    "2) How many features (also columns or attributes) are there?\n",
    "\n",
    "3) What are the names of the features? (\"Feature\" is used most often in ML projects.)\n",
    "\n",
    "4) Which features are numeric?\n",
    "\n",
    "5) Which features are categorical (non-numeric)?\n",
    "\n",
    "6) Are there any missing values? How should they be handled? Should we delete a sparsely populated column? Delete an incomplete data row? Substitute with a different value?\n",
    "\n",
    "7) What else do you notice about the dataset? Are there any data issues?"
   ]
  },
  {
   "cell_type": "markdown",
   "metadata": {},
   "source": [
    "## Section 2. Visualize Feature Distributions\n",
    "### 2.1 Create histograms, boxplots, and scatterplots\n",
    "\n",
    "- Create histograms for all numeric features using `data_frame.hist()` with 30 bins.\n",
    "- Create a boxenplots using `sns.boxenplot()`.\n",
    "- Create scatter plots using `sns.pairplot()`.\n",
    "\n",
    "First, histograms\n",
    "\n",
    "Generate histograms for all numerical columns\n",
    "\n",
    "Example code:\n",
    "\n",
    "data_frame.hist(bins=30, figsize=(12, 8))\n",
    "\n",
    "plt.show()"
   ]
  },
  {
   "cell_type": "code",
   "execution_count": null,
   "metadata": {},
   "outputs": [],
   "source": [
    "\n",
    "# This is a Python cell. \n",
    "# Put your comments and code here.\n",
    "\n",
    "\n"
   ]
  },
  {
   "cell_type": "markdown",
   "id": "b3c4a38b",
   "metadata": {},
   "source": [
    "Generate one Boxenplot for each column (good for large datasets)\n",
    "\n",
    "Example code:\n",
    "\n",
    "for column in data_frame.columns:\n",
    "    plt.figure(figsize=(6, 4))\n",
    "    sns.boxenplot(data=data_frame[column])\n",
    "    plt.title(f'Boxenplot for {column}')\n",
    "    plt.show()"
   ]
  },
  {
   "cell_type": "code",
   "execution_count": null,
   "id": "c36e5d73",
   "metadata": {},
   "outputs": [],
   "source": []
  },
  {
   "cell_type": "code",
   "execution_count": null,
   "id": "d9f0158e",
   "metadata": {},
   "outputs": [],
   "source": [
    "# This is a Python cell. \n",
    "# Put your comments and code here.\n"
   ]
  },
  {
   "cell_type": "markdown",
   "id": "4ad19958",
   "metadata": {},
   "source": [
    "Third - Scatter Plots\n",
    "\n",
    "Generate all Scatter plots (there is a LOT of data, so this will take a while)\n",
    "\n",
    "Comment out after analysis to speed up the notebook.\n",
    "\n",
    "Example code:\n",
    "\n",
    "sns.pairplot(data_frame)\n",
    "\n",
    "plt.show()"
   ]
  },
  {
   "cell_type": "code",
   "execution_count": null,
   "id": "014c64c9",
   "metadata": {},
   "outputs": [],
   "source": [
    "# This is a Python cell. \n",
    "# Put your comments and code here.\n",
    "\n"
   ]
  },
  {
   "cell_type": "markdown",
   "metadata": {},
   "source": [
    "This is a Markdown Cell.\n",
    "\n",
    "## Section 3. Feature Selection and Justification\n",
    "### 3.1 Choose two input features for predicting the target\n",
    "\n",
    "- Select `MedInc` and `AveRooms` as predictors.\n",
    "- Select `MedHouseVal` as the target variable.\n",
    "\n",
    "In the following, \n",
    "X is capitalized because it represents a matrix (consistent with mathematical notation).\n",
    "y is lowercase because it represents a vector (consistent with mathematical notation).\n",
    "\n",
    "\n",
    "First:\n",
    "- Create a list of contributing features and the target variable\n",
    "- Define the target feature string (the variable we want to predict)\n",
    "- Define the input DataFrame\n",
    "- Define the output DataFrame\n",
    "\n",
    "\n",
    "Example code:\n",
    "\n",
    "features: list = ['MedInc', 'AveRooms']\n",
    "\n",
    "target: str = 'MedHouseVal'\n",
    "\n",
    "df_X = data_frame[features]\n",
    "\n",
    "df_y = data_frame[target]\n"
   ]
  },
  {
   "cell_type": "code",
   "execution_count": null,
   "metadata": {},
   "outputs": [],
   "source": [
    "# This is a Python cell. \n",
    "# Put your comments and code here.\n",
    "\n"
   ]
  },
  {
   "cell_type": "markdown",
   "metadata": {},
   "source": [
    "This is a Markdown Cell.\n",
    "\n",
    "\n",
    "## Section 4. Train a Linear Regression Model\n",
    "### 4.1 Split the data\n",
    "Split the dataset into training and test sets (80% train / 20% test).\n",
    "\n",
    "Call train_test_split() by passing in: \n",
    "\n",
    "- df_X – Feature matrix (input data) as a pandas DataFrame\n",
    "- y – Target values as a pandas Series\n",
    "- test_size – Fraction of data to use for testing (e.g., 0.1 = 10%)\n",
    "- random_state – Seed value for reproducible splits\n",
    "\n",
    "We'll get back four return values:\n",
    "\n",
    "- X_train – Training set features (DataFrame)\n",
    "- X_test – Test set features (DataFrame)\n",
    "- y_train – Training set target values (Series)\n",
    "- y_test – Test set target values (Series)\n",
    "\n",
    "\n",
    "Example code:\n",
    "\n",
    "X_train, X_test, y_train, y_test = train_test_split(\n",
    "    df_X, df_y, test_size=0.2, random_state=42)\n"
   ]
  },
  {
   "cell_type": "code",
   "execution_count": null,
   "metadata": {},
   "outputs": [],
   "source": [
    "# This is a Python cell. \n",
    "# Put your comments and code here.\n",
    "# \n",
    "\n"
   ]
  },
  {
   "cell_type": "markdown",
   "metadata": {},
   "source": [
    "This is a Markdown Cell.\n",
    "\n",
    "### 4.2 Train the model\n",
    "Create and fit a `LinearRegression` model.\n",
    "\n",
    "LinearRegression – A class from sklearn.linear_model that creates a linear regression model.\n",
    "\n",
    "model – An instance of the LinearRegression model. This object will store the learned coefficients and intercept after training.\n",
    "\n",
    "fit() – Trains the model by finding the best-fit line for the training data using the Ordinary Least Squares (OLS) method.\n",
    "\n",
    "X_train – The input features used to train the model.\n",
    "\n",
    "y_train – The target values used to train the model.\n",
    "\n",
    "\n",
    "Example code:\n",
    "\n",
    "\n",
    "model = LinearRegression()\n",
    "\n",
    "model.fit(X_train, y_train)\n"
   ]
  },
  {
   "cell_type": "code",
   "execution_count": null,
   "metadata": {},
   "outputs": [],
   "source": [
    "# This is a Python cell. \n",
    "# Put your comments and code here.\n",
    "# \n"
   ]
  },
  {
   "cell_type": "markdown",
   "id": "5676c419",
   "metadata": {},
   "source": [
    "This is a Markdown Cell.\n",
    "\n",
    "Make predictions for the test set.\n",
    "\n",
    "The model.predict() method applies this equation to the X test data to compute predicted values.\n",
    "\n",
    "y_pred = model.predict(X_test)\n",
    "\n",
    "y_pred contains all the predicted values for all the rows in X_test based on the linear regression model.\n",
    "\n",
    "\n",
    "Example code:\n",
    "\n",
    "y_pred = model.predict(X_test)\n"
   ]
  },
  {
   "cell_type": "code",
   "execution_count": null,
   "id": "cb721051",
   "metadata": {
    "vscode": {
     "languageId": "markdown"
    }
   },
   "outputs": [],
   "source": [
    "\n",
    "# This is a Python cell. \n",
    "# Put your comments and code here.\n",
    "# "
   ]
  },
  {
   "cell_type": "markdown",
   "metadata": {},
   "source": [
    "This is a Markdown Cell. \n",
    "\n",
    "### 4.3 Report R^2, MAE, RMSE\n",
    "Evaluate the model using R^2, MAE, and RMSE.\n",
    "\n",
    "First:\n",
    "\n",
    "- Coefficient of Determination (R^2) - This tells you how well the model explains the variation in the target variable. A value close to 1 means the model fits the data well; a value close to 0 means the model doesn’t explain the variation well.\n",
    "\n",
    "\n",
    "Example code:\n",
    "  \n",
    "r2 = r2_score(y_test, y_pred)\n",
    "\n",
    "print(f'R²: {r2:.2f}')\n",
    "\n"
   ]
  },
  {
   "cell_type": "code",
   "execution_count": null,
   "metadata": {},
   "outputs": [],
   "source": [
    "\n",
    "# This is a Python cell. \n",
    "# Put your comments and code here.\n",
    "# "
   ]
  },
  {
   "cell_type": "markdown",
   "id": "351f529b",
   "metadata": {},
   "source": [
    "\n",
    "This is a Markdown Cell\n",
    "\n",
    "Second:\n",
    "\n",
    "- Mean Absolute Error (MAE) - This is the average of the absolute differences between the predicted values and the actual values. A smaller value means the model’s predictions are closer to the actual values.\n",
    "\n",
    "\n",
    "Example code:\n",
    "\n",
    "mae = mean_absolute_error(y_test, y_pred)\n",
    "\n",
    "print(f'MAE: {mae:.2f}')\n",
    "\n",
    "\n"
   ]
  },
  {
   "cell_type": "code",
   "execution_count": null,
   "id": "82df3db0",
   "metadata": {},
   "outputs": [],
   "source": [
    "# This is a Python cell. \n",
    "# Put your comments and code here.\n",
    "# \n"
   ]
  },
  {
   "cell_type": "markdown",
   "id": "04cf1fd0",
   "metadata": {},
   "source": [
    "\n",
    "This is a Markdown Cell\n",
    "\n",
    "Third:\n",
    "\n",
    "- Root Mean Squared Error (RMSE) - This is the square root of the average of the squared differences between the predicted values and the actual values. It gives a sense of how far the predictions are from the actual values, with larger errors having more impact.\n",
    "\n",
    "Example code:\n",
    "\n",
    "rmse = root_mean_squared_error(y_test, y_pred)\n",
    "\n",
    "print(f'RMSE: {rmse:.2f}')\n"
   ]
  },
  {
   "cell_type": "code",
   "execution_count": null,
   "id": "eda3368a",
   "metadata": {},
   "outputs": [],
   "source": [
    "# This is a Python cell. \n",
    "# Put your comments and code here.\n",
    "# \n"
   ]
  }
 ],
 "metadata": {
  "kernelspec": {
   "display_name": ".venv",
   "language": "python",
   "name": "python3"
  },
  "language_info": {
   "codemirror_mode": {
    "name": "ipython",
    "version": 3
   },
   "file_extension": ".py",
   "mimetype": "text/x-python",
   "name": "python",
   "nbconvert_exporter": "python",
   "pygments_lexer": "ipython3",
   "version": "3.12.3"
  }
 },
 "nbformat": 4,
 "nbformat_minor": 5
}
