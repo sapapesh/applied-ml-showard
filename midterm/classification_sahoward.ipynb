{
 "cells": [
  {
   "cell_type": "code",
   "execution_count": 28,
   "metadata": {},
   "outputs": [
    {
     "name": "stdout",
     "output_type": "stream",
     "text": [
      "  poisonous cap-shape cap-surface cap-color bruises odor gill-attachment  \\\n",
      "0         p         x           s         n       t    p               f   \n",
      "1         e         x           s         y       t    a               f   \n",
      "2         e         b           s         w       t    l               f   \n",
      "3         p         x           y         w       t    p               f   \n",
      "4         e         x           s         g       f    n               f   \n",
      "\n",
      "  gill-spacing gill-size gill-color stalk-shape stalk-root  \\\n",
      "0            c         n          k           e          e   \n",
      "1            c         b          k           e          c   \n",
      "2            c         b          n           e          c   \n",
      "3            c         n          n           e          e   \n",
      "4            w         b          k           t          e   \n",
      "\n",
      "  stalk-surface-above-ring stalk-surface-below-ring stalk-color-above-ring  \\\n",
      "0                        s                        s                      w   \n",
      "1                        s                        s                      w   \n",
      "2                        s                        s                      w   \n",
      "3                        s                        s                      w   \n",
      "4                        s                        s                      w   \n",
      "\n",
      "  stalk-color-below-ring veil-type veil-color ring-number ring-type  \\\n",
      "0                      w         p          w           o         p   \n",
      "1                      w         p          w           o         p   \n",
      "2                      w         p          w           o         p   \n",
      "3                      w         p          w           o         p   \n",
      "4                      w         p          w           o         e   \n",
      "\n",
      "  spore-print-color population habitat  \n",
      "0                 k          s       u  \n",
      "1                 n          n       g  \n",
      "2                 n          n       m  \n",
      "3                 k          s       u  \n",
      "4                 n          a       g  \n"
     ]
    }
   ],
   "source": [
    "import pandas as pd\n",
    "df = pd.read_csv(r\"C:\\Projects\\applied-ml-showard\\midterm\\Data\\agaricus-lepiota.data\", delimiter=\",\", header=None)\n",
    "\n",
    "# Assign column names\n",
    "#df.columns = ['Poisonous', 'Cap-Shape', 'Cap-Surface', 'Cap-Color', 'Bruises', 'Odor', 'Gill-Attachment', 'Gill-Spacing', 'Gill-Size', 'Gill-Color', 'Stalk-Shape' 'Stalk-Root', 'Stalk-Surface-Above-Ring', 'Stalk-Surface-Below-Ring', 'Stalk-Color-Above-Ring', 'Stalk-Color-Below-Ring', 'Veil-Type', 'Veil-Color', 'Ring-Number', 'Ring-Type', 'Spore-Print-Color', 'Population', 'Habitat']\n",
    "\n",
    "\n",
    "# Display the first 10 rows\n",
    "df.head(10)\n",
    "\n",
    "# Define the headers as a list\n",
    "headers = [\n",
    "    'poisonous', 'cap-shape', 'cap-surface', 'cap-color', 'bruises', 'odor', 'gill-attachment', \n",
    "    'gill-spacing', 'gill-size', 'gill-color', 'stalk-shape', 'stalk-root', 'stalk-surface-above-ring', \n",
    "    'stalk-surface-below-ring', 'stalk-color-above-ring', 'stalk-color-below-ring', 'veil-type', \n",
    "    'veil-color', 'ring-number', 'ring-type', 'spore-print-color', 'population', 'habitat'\n",
    "    ]\n",
    "\n",
    "# Assign the headers to the DataFrame\n",
    "df.columns = headers\n",
    "\n",
    "pd.set_option('display.max_columns', None)\n",
    "print(df.head())"
   ]
  }
 ],
 "metadata": {
  "kernelspec": {
   "display_name": ".venv",
   "language": "python",
   "name": "python3"
  },
  "language_info": {
   "codemirror_mode": {
    "name": "ipython",
    "version": 3
   },
   "file_extension": ".py",
   "mimetype": "text/x-python",
   "name": "python",
   "nbconvert_exporter": "python",
   "pygments_lexer": "ipython3",
   "version": "3.12.3"
  }
 },
 "nbformat": 4,
 "nbformat_minor": 2
}
