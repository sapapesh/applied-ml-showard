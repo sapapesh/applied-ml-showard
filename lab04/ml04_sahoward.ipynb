{
 "cells": [
  {
   "cell_type": "markdown",
   "metadata": {},
   "source": [
    "# Sarah's Titanic Data Set\n",
    "**Author:** Sarah Howard \n",
    "\n",
    "**Date:** April 5. 2025\n",
    "\n",
    "**Objective:** Predicting a Continuous Target with Regression"
   ]
  },
  {
   "cell_type": "markdown",
   "metadata": {},
   "source": [
    "## Introduction\n",
    "\n",
    "Using the TItanic dataset, we are going to use regression to predict the fare amount."
   ]
  },
  {
   "cell_type": "markdown",
   "metadata": {},
   "source": [
    "## Imports\n",
    "In the code cell below, import the necessary Python libraries for this notebook. "
   ]
  },
  {
   "cell_type": "code",
   "execution_count": 46,
   "metadata": {},
   "outputs": [],
   "source": [
    "import seaborn as sns\n",
    "import pandas as pd\n",
    "import numpy as np\n",
    "import matplotlib.pyplot as plt\n",
    "\n",
    "from sklearn.model_selection import train_test_split\n",
    "from sklearn.linear_model import LinearRegression, Ridge, ElasticNet\n",
    "from sklearn.preprocessing import PolynomialFeatures\n",
    "from sklearn.metrics import mean_squared_error, mean_absolute_error, r2_score"
   ]
  },
  {
   "cell_type": "markdown",
   "metadata": {},
   "source": [
    "## Section 1. Import and Inspect the Data\n",
    "\n",
    "### Load the Titanic dataset and confirm it’s structured correctly."
   ]
  },
  {
   "cell_type": "code",
   "execution_count": 47,
   "metadata": {},
   "outputs": [
    {
     "data": {
      "text/html": [
       "<div>\n",
       "<style scoped>\n",
       "    .dataframe tbody tr th:only-of-type {\n",
       "        vertical-align: middle;\n",
       "    }\n",
       "\n",
       "    .dataframe tbody tr th {\n",
       "        vertical-align: top;\n",
       "    }\n",
       "\n",
       "    .dataframe thead th {\n",
       "        text-align: right;\n",
       "    }\n",
       "</style>\n",
       "<table border=\"1\" class=\"dataframe\">\n",
       "  <thead>\n",
       "    <tr style=\"text-align: right;\">\n",
       "      <th></th>\n",
       "      <th>survived</th>\n",
       "      <th>pclass</th>\n",
       "      <th>sex</th>\n",
       "      <th>age</th>\n",
       "      <th>sibsp</th>\n",
       "      <th>parch</th>\n",
       "      <th>fare</th>\n",
       "      <th>embarked</th>\n",
       "      <th>class</th>\n",
       "      <th>who</th>\n",
       "      <th>adult_male</th>\n",
       "      <th>deck</th>\n",
       "      <th>embark_town</th>\n",
       "      <th>alive</th>\n",
       "      <th>alone</th>\n",
       "    </tr>\n",
       "  </thead>\n",
       "  <tbody>\n",
       "    <tr>\n",
       "      <th>0</th>\n",
       "      <td>0</td>\n",
       "      <td>3</td>\n",
       "      <td>male</td>\n",
       "      <td>22.0</td>\n",
       "      <td>1</td>\n",
       "      <td>0</td>\n",
       "      <td>7.2500</td>\n",
       "      <td>S</td>\n",
       "      <td>Third</td>\n",
       "      <td>man</td>\n",
       "      <td>True</td>\n",
       "      <td>NaN</td>\n",
       "      <td>Southampton</td>\n",
       "      <td>no</td>\n",
       "      <td>False</td>\n",
       "    </tr>\n",
       "    <tr>\n",
       "      <th>1</th>\n",
       "      <td>1</td>\n",
       "      <td>1</td>\n",
       "      <td>female</td>\n",
       "      <td>38.0</td>\n",
       "      <td>1</td>\n",
       "      <td>0</td>\n",
       "      <td>71.2833</td>\n",
       "      <td>C</td>\n",
       "      <td>First</td>\n",
       "      <td>woman</td>\n",
       "      <td>False</td>\n",
       "      <td>C</td>\n",
       "      <td>Cherbourg</td>\n",
       "      <td>yes</td>\n",
       "      <td>False</td>\n",
       "    </tr>\n",
       "    <tr>\n",
       "      <th>2</th>\n",
       "      <td>1</td>\n",
       "      <td>3</td>\n",
       "      <td>female</td>\n",
       "      <td>26.0</td>\n",
       "      <td>0</td>\n",
       "      <td>0</td>\n",
       "      <td>7.9250</td>\n",
       "      <td>S</td>\n",
       "      <td>Third</td>\n",
       "      <td>woman</td>\n",
       "      <td>False</td>\n",
       "      <td>NaN</td>\n",
       "      <td>Southampton</td>\n",
       "      <td>yes</td>\n",
       "      <td>True</td>\n",
       "    </tr>\n",
       "    <tr>\n",
       "      <th>3</th>\n",
       "      <td>1</td>\n",
       "      <td>1</td>\n",
       "      <td>female</td>\n",
       "      <td>35.0</td>\n",
       "      <td>1</td>\n",
       "      <td>0</td>\n",
       "      <td>53.1000</td>\n",
       "      <td>S</td>\n",
       "      <td>First</td>\n",
       "      <td>woman</td>\n",
       "      <td>False</td>\n",
       "      <td>C</td>\n",
       "      <td>Southampton</td>\n",
       "      <td>yes</td>\n",
       "      <td>False</td>\n",
       "    </tr>\n",
       "    <tr>\n",
       "      <th>4</th>\n",
       "      <td>0</td>\n",
       "      <td>3</td>\n",
       "      <td>male</td>\n",
       "      <td>35.0</td>\n",
       "      <td>0</td>\n",
       "      <td>0</td>\n",
       "      <td>8.0500</td>\n",
       "      <td>S</td>\n",
       "      <td>Third</td>\n",
       "      <td>man</td>\n",
       "      <td>True</td>\n",
       "      <td>NaN</td>\n",
       "      <td>Southampton</td>\n",
       "      <td>no</td>\n",
       "      <td>True</td>\n",
       "    </tr>\n",
       "  </tbody>\n",
       "</table>\n",
       "</div>"
      ],
      "text/plain": [
       "   survived  pclass     sex   age  sibsp  parch     fare embarked  class  \\\n",
       "0         0       3    male  22.0      1      0   7.2500        S  Third   \n",
       "1         1       1  female  38.0      1      0  71.2833        C  First   \n",
       "2         1       3  female  26.0      0      0   7.9250        S  Third   \n",
       "3         1       1  female  35.0      1      0  53.1000        S  First   \n",
       "4         0       3    male  35.0      0      0   8.0500        S  Third   \n",
       "\n",
       "     who  adult_male deck  embark_town alive  alone  \n",
       "0    man        True  NaN  Southampton    no  False  \n",
       "1  woman       False    C    Cherbourg   yes  False  \n",
       "2  woman       False  NaN  Southampton   yes   True  \n",
       "3  woman       False    C  Southampton   yes  False  \n",
       "4    man        True  NaN  Southampton    no   True  "
      ]
     },
     "execution_count": 47,
     "metadata": {},
     "output_type": "execute_result"
    }
   ],
   "source": [
    "# Load Titanic dataset from seaborn and verify\n",
    "titanic = sns.load_dataset(\"titanic\")\n",
    "titanic.head()"
   ]
  },
  {
   "cell_type": "markdown",
   "metadata": {},
   "source": [
    "## Section 2. Data Exploration and Preparation\n",
    "\n",
    "### Prepare the Titanic data for regression modeling"
   ]
  },
  {
   "cell_type": "code",
   "execution_count": 48,
   "metadata": {},
   "outputs": [
    {
     "name": "stderr",
     "output_type": "stream",
     "text": [
      "C:\\Users\\Sarah\\AppData\\Local\\Temp\\ipykernel_23860\\1712063472.py:1: FutureWarning: A value is trying to be set on a copy of a DataFrame or Series through chained assignment using an inplace method.\n",
      "The behavior will change in pandas 3.0. This inplace method will never work because the intermediate object on which we are setting values always behaves as a copy.\n",
      "\n",
      "For example, when doing 'df[col].method(value, inplace=True)', try using 'df.method({col: value}, inplace=True)' or df[col] = df[col].method(value) instead, to perform the operation inplace on the original object.\n",
      "\n",
      "\n",
      "  titanic['age'].fillna(titanic['age'].median(), inplace=True)\n"
     ]
    }
   ],
   "source": [
    "titanic['age'].fillna(titanic['age'].median(), inplace=True)\n",
    "\n",
    "titanic = titanic.dropna(subset=['fare'])\n",
    "\n",
    "titanic['family_size'] = titanic['sibsp'] + titanic['parch'] + 1"
   ]
  },
  {
   "cell_type": "markdown",
   "metadata": {},
   "source": [
    "## Section 3. Feature Selection and Justification\n",
    "\n",
    "### Define multiple combinations of features to use as inputs to predict fare."
   ]
  },
  {
   "cell_type": "markdown",
   "metadata": {},
   "source": [
    "#### Case 1 - Age only"
   ]
  },
  {
   "cell_type": "code",
   "execution_count": 49,
   "metadata": {},
   "outputs": [],
   "source": [
    "# Case 1. age\n",
    "X1 = titanic[['age']]\n",
    "y1 = titanic['fare']"
   ]
  },
  {
   "cell_type": "markdown",
   "metadata": {},
   "source": [
    "#### Case 2 - Family Size only"
   ]
  },
  {
   "cell_type": "code",
   "execution_count": 50,
   "metadata": {},
   "outputs": [],
   "source": [
    "# Case 2. family_size\n",
    "X2 = titanic[['family_size']]\n",
    "y2 = titanic['fare']"
   ]
  },
  {
   "cell_type": "markdown",
   "metadata": {},
   "source": [
    "#### Case 3 - Age and Family Size"
   ]
  },
  {
   "cell_type": "code",
   "execution_count": 51,
   "metadata": {},
   "outputs": [],
   "source": [
    "# Case 3. age, family_size\n",
    "X3 = titanic[['age', 'family_size']]\n",
    "y3 = titanic['fare']"
   ]
  },
  {
   "cell_type": "markdown",
   "metadata": {},
   "source": [
    "#### Case 4 - Pclass only"
   ]
  },
  {
   "cell_type": "code",
   "execution_count": 52,
   "metadata": {},
   "outputs": [],
   "source": [
    "# Case 4. Pclass\n",
    "X4 = titanic[['pclass']]\n",
    "y4 = titanic['fare']"
   ]
  },
  {
   "cell_type": "markdown",
   "metadata": {},
   "source": [
    "### Reflection:\n",
    "\n",
    "**1. Why might these features affect a passenger’s fare:** <br>\n",
    "These features may affect fare as there could be different pricing dependent on whether the person is an adult or child, whether they are part of a family group or only buying one ticket, and which pclass they purchased.\n",
    "\n",
    "**2. List all available features:** <br>\n",
    "survived, pclass, sex, age, sibsp, parch, fare, embarked, class, who, adult_male, deck, embark_town, alive, alone, family_size\n",
    "\n",
    "**3. Which other features could improve predictions and why:** <br>\n",
    "Embark_town may impact fare if there were different rates for different locations. Deck could have a different fare for different deck levels.\n",
    "\n",
    "**4. How many variables are in your Case 4:** <br>\n",
    "one variable\n",
    "\n",
    "**5. Which variable(s) did you choose for Case 4 and why do you feel those could make good inputs:** <br>\n",
    "I chose pclass for case 4 as I thought that the fare would vary based on the passenger class."
   ]
  },
  {
   "cell_type": "markdown",
   "metadata": {},
   "source": [
    "## Section 4. Train a Regression Model (Linear Regression)\n",
    "\n",
    "### 4.1 Split the Data"
   ]
  },
  {
   "cell_type": "code",
   "execution_count": 53,
   "metadata": {},
   "outputs": [],
   "source": [
    "X1_train, X1_test, y1_train, y1_test = train_test_split(X1, y1, test_size=0.2, random_state=123)\n",
    "\n",
    "X2_train, X2_test, y2_train, y2_test = train_test_split(X2, y2, test_size=0.2, random_state=123)\n",
    "\n",
    "X3_train, X3_test, y3_train, y3_test = train_test_split(X3, y3, test_size=0.2, random_state=123)\n",
    "\n",
    "X4_train, X4_test, y4_train, y4_test = train_test_split(X4, y4, test_size=0.2, random_state=123)"
   ]
  },
  {
   "cell_type": "markdown",
   "metadata": {},
   "source": [
    "### 4.2 Train and Evaluate Linear Regression Models (all 4 cases)"
   ]
  },
  {
   "cell_type": "code",
   "execution_count": 54,
   "metadata": {},
   "outputs": [],
   "source": [
    "lr_model1 = LinearRegression().fit(X1_train, y1_train)\n",
    "lr_model2 = LinearRegression().fit(X2_train, y2_train)\n",
    "lr_model3 = LinearRegression().fit(X3_train, y3_train)\n",
    "lr_model4 = LinearRegression().fit(X4_train, y4_train)\n",
    "\n",
    "# Predictions\n",
    "\n",
    "y_pred_train1 = lr_model1.predict(X1_train)\n",
    "y_pred_test1 = lr_model1.predict(X1_test)\n",
    "\n",
    "y_pred_train2 = lr_model2.predict(X2_train)\n",
    "y_pred_test2 = lr_model2.predict(X2_test)\n",
    "\n",
    "y_pred_train3 = lr_model3.predict(X3_train)\n",
    "y_pred_test3 = lr_model3.predict(X3_test)\n",
    "\n",
    "y_pred_train4 = lr_model4.predict(X4_train)\n",
    "y_pred_test4 = lr_model4.predict(X4_test)"
   ]
  },
  {
   "cell_type": "markdown",
   "metadata": {},
   "source": [
    "### 4.3 Report Performance"
   ]
  },
  {
   "cell_type": "code",
   "execution_count": 55,
   "metadata": {},
   "outputs": [
    {
     "name": "stdout",
     "output_type": "stream",
     "text": [
      "Case 1: Training R²: 0.009950688019452314\n",
      "Case 1: Test R²: 0.0034163395508415295\n",
      "Case 1: Test RMSE: 2078918.6797919315\n",
      "Case 1: Test MAE: 25.28637293162364\n",
      "\n",
      "Case 2: Training R²: 0.049915792364760736\n",
      "Case 2: Test R²: 0.022231186110131973\n",
      "Case 2: Test RMSE: 2001162.422888809\n",
      "Case 2: Test MAE: 25.02534815941641\n",
      "\n",
      "Case 3: Training R²: 0.07347466201590014\n",
      "Case 3: Test R²: 0.049784832763073106\n",
      "Case 3: Test RMSE: 1889965.573394771\n",
      "Case 3: Test MAE: 24.284935030470688\n",
      "\n",
      "Case 4: Training R²: 0.3005588037487471\n",
      "Case 4: Test R²: 0.3016017234169923\n",
      "Case 4: Test RMSE: 1020977.7901717048\n",
      "Case 4: Test MAE: 20.653703671484056\n"
     ]
    }
   ],
   "source": [
    "print(\"Case 1: Training R²:\", r2_score(y1_train, y_pred_train1))\n",
    "print(\"Case 1: Test R²:\", r2_score(y1_test, y_pred_test1))\n",
    "print(\"Case 1: Test RMSE:\", mean_squared_error(y1_test, y_pred_test1)**2)\n",
    "print(\"Case 1: Test MAE:\", mean_absolute_error(y1_test, y_pred_test1))\n",
    "print()\n",
    "\n",
    "print(\"Case 2: Training R²:\", r2_score(y2_train, y_pred_train2))\n",
    "print(\"Case 2: Test R²:\", r2_score(y2_test, y_pred_test2))\n",
    "print(\"Case 2: Test RMSE:\", mean_squared_error(y1_test, y_pred_test2)**2)\n",
    "print(\"Case 2: Test MAE:\", mean_absolute_error(y2_test, y_pred_test2))\n",
    "print()\n",
    "\n",
    "print(\"Case 3: Training R²:\", r2_score(y3_train, y_pred_train3))\n",
    "print(\"Case 3: Test R²:\", r2_score(y3_test, y_pred_test3))\n",
    "print(\"Case 3: Test RMSE:\", mean_squared_error(y1_test, y_pred_test3)**2)\n",
    "print(\"Case 3: Test MAE:\", mean_absolute_error(y3_test, y_pred_test3))\n",
    "print()\n",
    "\n",
    "print(\"Case 4: Training R²:\", r2_score(y4_train, y_pred_train4))\n",
    "print(\"Case 4: Test R²:\", r2_score(y4_test, y_pred_test4))\n",
    "print(\"Case 4: Test RMSE:\", mean_squared_error(y1_test, y_pred_test4)**2)\n",
    "print(\"Case 4: Test MAE:\", mean_absolute_error(y4_test, y_pred_test4))\n"
   ]
  },
  {
   "cell_type": "markdown",
   "metadata": {},
   "source": [
    "### 4.4 Table of Performance Results"
   ]
  },
  {
   "cell_type": "code",
   "execution_count": 56,
   "metadata": {},
   "outputs": [
    {
     "name": "stdout",
     "output_type": "stream",
     "text": [
      "     Case  Training R²  Test R²    Test RMSE  Test MAE\n",
      "0  Case 1        0.010    0.003  2078918.680    25.286\n",
      "1  Case 2        0.050    0.022  2001162.423    25.025\n",
      "2  Case 3        0.073    0.050  1889965.573    24.285\n",
      "3  Case 4        0.301    0.302  1020977.790    20.654\n"
     ]
    }
   ],
   "source": [
    "data = {\n",
    "    'Case': ['Case 1', 'Case 2', 'Case 3', 'Case 4'],\n",
    "    'Training R²': [0.009950688019452314, 0.049915792364760736, 0.07347466201590014, 0.3005588037487471],\n",
    "    'Test R²': [0.0034163395508415295, 0.022231186110131973, 0.049784832763073106, 0.3016017234169923],\n",
    "    'Test RMSE': [2078918.6797919315, 2001162.422888809, 1889965.573394771, 1020977.7901717048],\n",
    "    'Test MAE': [25.28637293162364, 25.02534815941641, 24.284935030470688, 20.653703671484056]\n",
    "}\n",
    "\n",
    "# Create DataFrame\n",
    "df = pd.DataFrame(data)\n",
    "df = df.round(3)\n",
    "# Display table\n",
    "print(df)"
   ]
  },
  {
   "cell_type": "markdown",
   "metadata": {},
   "source": [
    "### Reflection:\n",
    "\n",
    "***Compare the train vs test results for each.***\n",
    "\n",
    "**1. Did Case 1 overfit or underfit? Explain:** <br>\n",
    "Case 1 underfit as the R2 value was close to 0 for both the training data and test data.\n",
    "\n",
    "**2. Did Case 2 overfit or underfit? Explain:** <br>\n",
    "Case 2 underfit as the R2 value was close to 0 for both the training data and test data.\n",
    "\n",
    "**3. Did Case 3 overfit or underfit? Explain:** <br>\n",
    "Case 3 underfit as the R2 value was close to 0 for both the training data and test data.\n",
    "\n",
    "**4. Did Case 4 overfit or underfit? Explain:** <br>\n",
    "Case 4 was a good fit and did not overfit or underfit.\n",
    "\n",
    "<br>\n",
    "\n",
    "***Adding Age***\n",
    "\n",
    "**1. Did adding age improve the model:**<br>\n",
    "Adding age did improve the model as the training R2 and test R2 improved when age was added to family size.\n",
    "\n",
    "**2. Propose a possible explanation (consider how age might affect ticket price, and whether the data supports that):** <br>\n",
    "If the tickets had different fare prices based on age, then having a family with 1-2 adults and 1+ kids could influence the ticket prices. The combination of age and family size helped lower the RMSE and MAE.\n",
    "<br>\n",
    "\n",
    "***Worst***\n",
    "\n",
    "**1. Which case performed the worst:** <br>\n",
    "Case 1 - Age performed the worst.\n",
    "\n",
    "**2. How do you know:** <br>\n",
    "Age had the R2 values (train and test) that were closest to 0. In addition, it had the highest RMSE and MAE.\n",
    "\n",
    "**3. Do you think adding more training data would improve it (and why/why not):** <br>\n",
    "Since the R2 values are close to 0, I do not think adding more training data would improve the results.\n",
    "\n",
    "<br>\n",
    "\n",
    "***Best***\n",
    "\n",
    "**1. Which case performed the best:**<br>\n",
    "Case 4 - Pclass performed the best.\n",
    "\n",
    "**2. How do you know:** <br>\n",
    "The R2 scores are balanced and have the best result of all the test cases.  \n",
    "\n",
    "**3. Do you think adding more training data would improve it (and why/why not):**<br>\n",
    "Adding more training data may improve the results as currently the model explains approximately 30% of the variance. With additional data, the model may be able to improve on its accuracy."
   ]
  },
  {
   "cell_type": "markdown",
   "metadata": {},
   "source": [
    "## Section 5. Compare Alternative Models (Ridge, Elastic Net, Polynomial Regression)\n",
    "\n",
    "### 5.1 Ridge Regression (L2 penalty)"
   ]
  },
  {
   "cell_type": "code",
   "execution_count": 57,
   "metadata": {},
   "outputs": [
    {
     "name": "stdout",
     "output_type": "stream",
     "text": [
      "R² Score: 0.30224715597914653\n",
      "Mean Squared Error: 1009.5006518681497\n"
     ]
    }
   ],
   "source": [
    "# Using Case 4 - PClass\n",
    "\n",
    "ridge_model = Ridge(alpha=1.0)\n",
    "ridge_model.fit(X4_train, y4_train)\n",
    "y_pred_ridge = ridge_model.predict(X4_test)\n",
    "\n",
    "r2 = r2_score(y4_test, y_pred_ridge)\n",
    "print(\"R² Score:\", r2)\n",
    "\n",
    "mse = mean_squared_error(y4_test, y_pred_ridge)\n",
    "print(\"Mean Squared Error:\", mse)"
   ]
  },
  {
   "cell_type": "markdown",
   "metadata": {},
   "source": [
    "### 5.2 Elastic Net (L1 + L2 combined)"
   ]
  },
  {
   "cell_type": "code",
   "execution_count": 58,
   "metadata": {},
   "outputs": [
    {
     "name": "stdout",
     "output_type": "stream",
     "text": [
      "R² Score: 0.3390195349445043\n",
      "Mean Squared Error: 956.2988041732633\n"
     ]
    }
   ],
   "source": [
    "elastic_model = ElasticNet(alpha=0.3, l1_ratio=0.5)\n",
    "elastic_model.fit(X4_train, y4_train)\n",
    "y_pred_elastic = elastic_model.predict(X4_test)\n",
    "\n",
    "r2 = r2_score(y4_test, y_pred_elastic)\n",
    "print(\"R² Score:\", r2)\n",
    "\n",
    "mse = mean_squared_error(y4_test, y_pred_elastic)\n",
    "print(\"Mean Squared Error:\", mse)"
   ]
  },
  {
   "cell_type": "markdown",
   "metadata": {},
   "source": [
    "### 5.3 Polynomial Regression"
   ]
  },
  {
   "cell_type": "code",
   "execution_count": 59,
   "metadata": {},
   "outputs": [
    {
     "name": "stdout",
     "output_type": "stream",
     "text": [
      "R² Score: 0.33610336564092946\n",
      "Mean Squared Error: 960.5178838060347\n"
     ]
    }
   ],
   "source": [
    "# Set up the poly inputs\n",
    "poly = PolynomialFeatures(degree=3)\n",
    "X_train_poly = poly.fit_transform(X4_train)\n",
    "X_test_poly = poly.transform(X4_test)\n",
    "\n",
    "# Use the poly inputs in the LR model\n",
    "poly_model = LinearRegression()\n",
    "poly_model.fit(X_train_poly, y4_train)\n",
    "y_pred_poly = poly_model.predict(X_test_poly)\n",
    "\n",
    "r2 = r2_score(y4_test, y_pred_poly)\n",
    "print(\"R² Score:\", r2)\n",
    "\n",
    "mse = mean_squared_error(y4_test, y_pred_poly)\n",
    "print(\"Mean Squared Error:\", mse)"
   ]
  },
  {
   "cell_type": "markdown",
   "metadata": {},
   "source": [
    "### 5.4 Visualize Polynomial Cubic Fit (for 1 input feature)"
   ]
  },
  {
   "cell_type": "code",
   "execution_count": 60,
   "metadata": {},
   "outputs": [
    {
     "data": {
      "image/png": "[encoded data removed]",
      "text/plain": [
       "<Figure size 640x480 with 1 Axes>"
      ]
     },
     "metadata": {},
     "output_type": "display_data"
    }
   ],
   "source": [
    "plt.scatter(X4_test, y4_test, color='blue', label='Actual')\n",
    "plt.scatter(X4_test, y_pred_poly, color='red', label='Predicted (Poly)')\n",
    "plt.legend()\n",
    "plt.title(\"Polynomial Regression: Pclass vs Fare\")\n",
    "plt.show()"
   ]
  },
  {
   "cell_type": "markdown",
   "metadata": {},
   "source": [
    "### Reflection:\n",
    "\n",
    "**1. What patterns does the cubic model seem to capture:** <br>\n",
    "The model captures that 1st class is paying higher fares.  The 2nd class is a lower fare than 1st class and 3rd class is the lowest predicted fare of all.\n",
    "\n",
    "**2. Where does it perform well or poorly:** <br>\n",
    "The model performs fairly well for 2nd and 3rd class. It does not do as well with 1st class when there is more variance in the fares.\n",
    "\n",
    "**3. Did the polynomial fit outperform linear regression:** <br>\n",
    "In looking at the actual and the predicted polynomial fit, it performed better than a linear regression because the fares are not linear.\n",
    "\n",
    "**4. Where (on the graph or among which kinds of data points) does it fit best:** <br>\n",
    "The 2nd class performs the best as the actual results are most clustered.\n"
   ]
  },
  {
   "cell_type": "markdown",
   "metadata": {},
   "source": [
    "### 5.5 Visualize Higher Order Polynomial (for the same 1 input case)"
   ]
  },
  {
   "cell_type": "code",
   "execution_count": 61,
   "metadata": {},
   "outputs": [
    {
     "data": {
      "image/png": "[encoded data removed]",
      "text/plain": [
       "<Figure size 640x480 with 1 Axes>"
      ]
     },
     "metadata": {},
     "output_type": "display_data"
    }
   ],
   "source": [
    "# Set up the poly inputs for a degree of 8\n",
    "poly = PolynomialFeatures(degree=8)\n",
    "X_train_poly = poly.fit_transform(X4_train)\n",
    "X_test_poly = poly.transform(X4_test)\n",
    "\n",
    "# Use the poly inputs in the LR model\n",
    "poly_model = LinearRegression()\n",
    "poly_model.fit(X_train_poly, y4_train)\n",
    "y_pred_poly = poly_model.predict(X_test_poly)\n",
    "\n",
    "plt.scatter(X4_test, y4_test, color='blue', label='Actual')\n",
    "plt.scatter(X4_test, y_pred_poly, color='red', label='Predicted (Poly)')\n",
    "plt.legend()\n",
    "plt.title(\"Polynomial Regression: Pclass vs Fare\")\n",
    "plt.show()"
   ]
  },
  {
   "cell_type": "markdown",
   "metadata": {},
   "source": [
    "**Comparison of polynomial degree 3 vs polynomial degree 8**<br>\n",
    "The charts appeared to give the same results no matter which polynomial degree was used.  While I am reflecting degree 8 above, I tried all the different polynomial degrees to see if the chart would appear differently, but it was the same for each attempt."
   ]
  },
  {
   "cell_type": "markdown",
   "metadata": {},
   "source": [
    "## Section 6. Final Thoughts & Insights\n",
    "\n",
    "### 6.1 Summarize Findings\n",
    "\n",
    "**1.What features were most useful?**<br>\n",
    "The feature that was the most useful was pclass.\n",
    "\n",
    "**2. What regression model performed best?**<br>\n",
    "The Elastic Net Regression model performed the best.  It had the highest R2 score (.339) and the lowest mean squared error (956.299).\n",
    "\n",
    "Linear \n",
    "R² Score: 0.3016017234169923\n",
    "Mean Squared Error: 1020977.7901717048\n",
    "\n",
    "Ridge Regression\n",
    "R² Score: 0.30224715597914653\n",
    "Mean Squared Error: 1009.5006518681497\n",
    "\n",
    "Elastic Net Regression\n",
    "R² Score: 0.3390195349445043\n",
    "Mean Squared Error: 956.2988041732633\n",
    "\n",
    "Polynomial Regression\n",
    "R² Score: 0.33610336564092946\n",
    "Mean Squared Error: 960.5178838060347\n",
    "\n",
    "**3. How did model complexity or regularization affect results?**<br>\n",
    "Regularization helped to improve the results.\n",
    "\n",
    "### 6.2 Discuss Challenges\n",
    "\n",
    "**1. Was fare hard to predict? Why?**<br>\n",
    "Fare was hard to predict as the outliers impacted the results.\n",
    "\n",
    "**2. Did skew or outliers impact the models?**<br>\n",
    "Yes, the outliers impacted the models.\n"
   ]
  }
 ],
 "metadata": {
  "kernelspec": {
   "display_name": ".venv",
   "language": "python",
   "name": "python3"
  },
  "language_info": {
   "codemirror_mode": {
    "name": "ipython",
    "version": 3
   },
   "file_extension": ".py",
   "mimetype": "text/x-python",
   "name": "python",
   "nbconvert_exporter": "python",
   "pygments_lexer": "ipython3",
   "version": "3.12.3"
  }
 },
 "nbformat": 4,
 "nbformat_minor": 2
}
